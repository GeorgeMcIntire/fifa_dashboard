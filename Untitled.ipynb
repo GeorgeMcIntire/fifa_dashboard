{
 "cells": [
  {
   "cell_type": "code",
   "execution_count": 196,
   "metadata": {},
   "outputs": [],
   "source": [
    "import umap\n",
    "\n",
    "from pprint import pprint\n",
    "import matplotlib.pyplot as plt\n",
    "\n",
    "from sklearn.decomposition import PCA\n",
    "from sklearn.preprocessing import StandardScaler\n",
    "\n",
    "from sklearn.cluster import KMeans, SpectralClustering, AgglomerativeClustering\n",
    "from sklearn.metrics import silhouette_score\n",
    "\n",
    "from sklearn.neighbors import NearestNeighbors\n",
    "from sklearn.metrics.pairwise import cosine_similarity, cosine_distances, euclidean_distances\n",
    "\n",
    "\n",
    "%matplotlib inline\n",
    "plt.style.use('fivethirtyeight')"
   ]
  },
  {
   "cell_type": "code",
   "execution_count": 197,
   "metadata": {},
   "outputs": [],
   "source": [
    "data = pd.read_csv(\"data.csv\", index_col=0)\n",
    "\n",
    "data.columns = data.columns.str.lower().str.replace(\" \", \"_\")\n",
    "\n",
    "bad_cols = [\"club_logo\", \"photo\", \"flag\", \"loaned_from\"]\n",
    "\n",
    "data = data.drop(bad_cols, axis = 1)\n",
    "data = data.query(\"position != 'GK'\")\n",
    "gk_cols = [i for i in data.columns if \"gk\" in i]\n",
    "\n",
    "data = data.drop(gk_cols, axis = 1)\n",
    "data = data.set_index(\"id\")"
   ]
  },
  {
   "cell_type": "code",
   "execution_count": 198,
   "metadata": {},
   "outputs": [],
   "source": [
    "data = data[data.overall >= 70].copy()\n",
    "attribute_cols = data.columns[48:-1].tolist()\n",
    "features = data[attribute_cols].copy()\n",
    "features.dropna(inplace=True)"
   ]
  },
  {
   "cell_type": "code",
   "execution_count": 199,
   "metadata": {},
   "outputs": [],
   "source": [
    "import tsne"
   ]
  },
  {
   "cell_type": "code",
   "execution_count": 200,
   "metadata": {},
   "outputs": [
    {
     "name": "stdout",
     "output_type": "stream",
     "text": [
      "[t-SNE] Computing 151 nearest neighbors...\n",
      "[t-SNE] Indexed 5138 samples in 0.005s...\n",
      "[t-SNE] Computed neighbors for 5138 samples in 0.945s...\n",
      "[t-SNE] Computed conditional probabilities for sample 1000 / 5138\n",
      "[t-SNE] Computed conditional probabilities for sample 2000 / 5138\n",
      "[t-SNE] Computed conditional probabilities for sample 3000 / 5138\n",
      "[t-SNE] Computed conditional probabilities for sample 4000 / 5138\n",
      "[t-SNE] Computed conditional probabilities for sample 5000 / 5138\n",
      "[t-SNE] Computed conditional probabilities for sample 5138 / 5138\n",
      "[t-SNE] Mean sigma: 13.253787\n",
      "[t-SNE] KL divergence after 250 iterations with early exaggeration: 73.680840\n",
      "[t-SNE] KL divergence after 300 iterations: 2.445069\n"
     ]
    }
   ],
   "source": [
    "from sklearn.manifold import TSNE\n",
    "\n",
    "n_sne = 7000\n",
    "\n",
    "tsne = TSNE(n_components=2, verbose=1, perplexity=50, n_iter=300, learning_rate=100)\n",
    "tsne_results = tsne.fit_transform(features.values)"
   ]
  },
  {
   "cell_type": "code",
   "execution_count": 201,
   "metadata": {},
   "outputs": [],
   "source": [
    "from sklearn.decomposition import FactorAnalysis\n",
    "from sklearn.preprocessing import StandardScaler"
   ]
  },
  {
   "cell_type": "code",
   "execution_count": 202,
   "metadata": {},
   "outputs": [],
   "source": [
    "scaler = StandardScaler()\n",
    "Xs = scaler.fit_transform(features)"
   ]
  },
  {
   "cell_type": "code",
   "execution_count": 203,
   "metadata": {},
   "outputs": [],
   "source": [
    "fa = FactorAnalysis(n_components = 2)"
   ]
  },
  {
   "cell_type": "code",
   "execution_count": 204,
   "metadata": {},
   "outputs": [],
   "source": [
    "X = fa.fit_transform(Xs)"
   ]
  },
  {
   "cell_type": "code",
   "execution_count": 205,
   "metadata": {},
   "outputs": [
    {
     "data": {
      "text/plain": [
       "<matplotlib.collections.PathCollection at 0x1a27c1e438>"
      ]
     },
     "execution_count": 205,
     "metadata": {},
     "output_type": "execute_result"
    },
    {
     "data": {
      "image/png": "[encoded data removed]",
      "text/plain": [
       "<Figure size 432x288 with 1 Axes>"
      ]
     },
     "metadata": {},
     "output_type": "display_data"
    }
   ],
   "source": [
    "plt.scatter(X[:, 0], X[:, 1])"
   ]
  },
  {
   "cell_type": "code",
   "execution_count": 206,
   "metadata": {},
   "outputs": [
    {
     "data": {
      "text/plain": [
       "[('standingtackle', 0.028758790262239264),\n",
       " ('slidingtackle', 0.04528761656921765),\n",
       " ('interceptions', 0.09344791851766843),\n",
       " ('marking', 0.18821653237879266),\n",
       " ('dribbling', 0.19115624387171637),\n",
       " ('ballcontrol', 0.21084375425366053),\n",
       " ('finishing', 0.2223799559853844),\n",
       " ('positioning', 0.2300905419340551),\n",
       " ('vision', 0.2424403205606176),\n",
       " ('longshots', 0.30037783684008756),\n",
       " ('curve', 0.31020672523741744),\n",
       " ('shortpassing', 0.32280348604657993),\n",
       " ('volleys', 0.32745958655522134),\n",
       " ('crossing', 0.3996281552000812),\n",
       " ('longpassing', 0.4228262894958512),\n",
       " ('fkaccuracy', 0.4770733719815763),\n",
       " ('penalties', 0.506717223153886),\n",
       " ('agility', 0.5196744669451133),\n",
       " ('shotpower', 0.5497341258566453),\n",
       " ('aggression', 0.6133452908205146),\n",
       " ('balance', 0.6362574868065132),\n",
       " ('acceleration', 0.7034559362052575),\n",
       " ('composure', 0.7336319411544064),\n",
       " ('reactions', 0.7461753602080377),\n",
       " ('strength', 0.7600913749645282),\n",
       " ('sprintspeed', 0.7945836503589621),\n",
       " ('stamina', 0.8197744839851396),\n",
       " ('headingaccuracy', 0.8288871985620313),\n",
       " ('jumping', 0.9636791239152769)]"
      ]
     },
     "execution_count": 206,
     "metadata": {},
     "output_type": "execute_result"
    }
   ],
   "source": [
    "sorted([*zip(features.columns, fa.noise_variance_)], key= lambda x:x[1])"
   ]
  },
  {
   "cell_type": "code",
   "execution_count": 207,
   "metadata": {},
   "outputs": [],
   "source": [
    "# pd.DataFrame(fa.get_covariance())"
   ]
  },
  {
   "cell_type": "code",
   "execution_count": 208,
   "metadata": {},
   "outputs": [
    {
     "data": {
      "text/plain": [
       "(2, 29)"
      ]
     },
     "execution_count": 208,
     "metadata": {},
     "output_type": "execute_result"
    }
   ],
   "source": [
    "fa.components_.shape"
   ]
  },
  {
   "cell_type": "code",
   "execution_count": 209,
   "metadata": {},
   "outputs": [],
   "source": [
    "# pd.DataFrame(fa.components_).abs().sum()"
   ]
  },
  {
   "cell_type": "code",
   "execution_count": 210,
   "metadata": {},
   "outputs": [],
   "source": [
    "# features.corr().replace(1., np.nan).abs().max()"
   ]
  },
  {
   "cell_type": "code",
   "execution_count": 211,
   "metadata": {},
   "outputs": [],
   "source": [
    "# features.corr().replace(1., np.nan).abs().idxmax()"
   ]
  },
  {
   "cell_type": "code",
   "execution_count": 212,
   "metadata": {},
   "outputs": [],
   "source": [
    "m = fa.components_\n",
    "n = fa.noise_variance_"
   ]
  },
  {
   "cell_type": "code",
   "execution_count": 213,
   "metadata": {},
   "outputs": [],
   "source": [
    "m1 = m**2"
   ]
  },
  {
   "cell_type": "code",
   "execution_count": 214,
   "metadata": {},
   "outputs": [],
   "source": [
    "m2 = np.sum(m1,axis=1)"
   ]
  },
  {
   "cell_type": "code",
   "execution_count": 215,
   "metadata": {},
   "outputs": [],
   "source": [
    "pvar1 = (100*m2[0])/np.sum(m2)"
   ]
  },
  {
   "cell_type": "code",
   "execution_count": 216,
   "metadata": {},
   "outputs": [
    {
     "data": {
      "text/plain": [
       "54.28325455316189"
      ]
     },
     "execution_count": 216,
     "metadata": {},
     "output_type": "execute_result"
    }
   ],
   "source": [
    "pvar1"
   ]
  },
  {
   "cell_type": "code",
   "execution_count": 217,
   "metadata": {},
   "outputs": [],
   "source": [
    "pvar2 = (100*m2[1])/np.sum(m2)"
   ]
  },
  {
   "cell_type": "code",
   "execution_count": 218,
   "metadata": {},
   "outputs": [
    {
     "data": {
      "text/plain": [
       "45.716745446838104"
      ]
     },
     "execution_count": 218,
     "metadata": {},
     "output_type": "execute_result"
    }
   ],
   "source": [
    "pvar2"
   ]
  },
  {
   "cell_type": "code",
   "execution_count": 219,
   "metadata": {},
   "outputs": [
    {
     "data": {
      "text/plain": [
       "100.0"
      ]
     },
     "execution_count": 219,
     "metadata": {},
     "output_type": "execute_result"
    }
   ],
   "source": [
    "pvar1 + pvar2"
   ]
  },
  {
   "cell_type": "code",
   "execution_count": 220,
   "metadata": {},
   "outputs": [],
   "source": [
    "pvar1_with_noise = (100*m2[0])/(np.sum(m2)+np.sum(n))\n",
    "pvar2_with_noise = (100*m2[1])/(np.sum(m2)+np.sum(n))"
   ]
  },
  {
   "cell_type": "code",
   "execution_count": 221,
   "metadata": {},
   "outputs": [
    {
     "data": {
      "text/plain": [
       "29.59555721034638"
      ]
     },
     "execution_count": 221,
     "metadata": {},
     "output_type": "execute_result"
    }
   ],
   "source": [
    "pvar1_with_noise"
   ]
  },
  {
   "cell_type": "code",
   "execution_count": 222,
   "metadata": {},
   "outputs": [
    {
     "data": {
      "text/plain": [
       "24.92504486844423"
      ]
     },
     "execution_count": 222,
     "metadata": {},
     "output_type": "execute_result"
    }
   ],
   "source": [
    "pvar2_with_noise"
   ]
  },
  {
   "cell_type": "code",
   "execution_count": 223,
   "metadata": {},
   "outputs": [
    {
     "data": {
      "text/plain": [
       "54.28325455316189"
      ]
     },
     "execution_count": 223,
     "metadata": {},
     "output_type": "execute_result"
    }
   ],
   "source": [
    "pvar1"
   ]
  },
  {
   "cell_type": "code",
   "execution_count": 224,
   "metadata": {},
   "outputs": [
    {
     "data": {
      "text/plain": [
       "Index(['crossing', 'finishing', 'headingaccuracy', 'shortpassing', 'volleys',\n",
       "       'dribbling', 'curve', 'fkaccuracy', 'longpassing', 'ballcontrol',\n",
       "       'acceleration', 'sprintspeed', 'agility', 'reactions', 'balance',\n",
       "       'shotpower', 'jumping', 'stamina', 'strength', 'longshots',\n",
       "       'aggression', 'interceptions', 'positioning', 'vision', 'penalties',\n",
       "       'composure', 'marking', 'standingtackle', 'slidingtackle'],\n",
       "      dtype='object')"
      ]
     },
     "execution_count": 224,
     "metadata": {},
     "output_type": "execute_result"
    }
   ],
   "source": [
    "features.columns"
   ]
  },
  {
   "cell_type": "code",
   "execution_count": 225,
   "metadata": {},
   "outputs": [],
   "source": [
    "cols = [\"finishing\", \"shortpassing\", \"ballcontrol\", \"reactions\", \"interceptions\", \"marking\", \"dribbling\",\n",
    "       \"balance\", \"crossing\", \"positioning\", \"vision\"]"
   ]
  },
  {
   "cell_type": "code",
   "execution_count": 226,
   "metadata": {},
   "outputs": [],
   "source": [
    "attributes = features[cols].copy()"
   ]
  },
  {
   "cell_type": "code",
   "execution_count": 227,
   "metadata": {},
   "outputs": [],
   "source": [
    "k = 3"
   ]
  },
  {
   "cell_type": "code",
   "execution_count": 228,
   "metadata": {},
   "outputs": [],
   "source": [
    "# from spherecluster import SphericalKMeans\n",
    "# skm = SphericalKMeans(n_clusters=k)\n",
    "# skm.fit(features)"
   ]
  },
  {
   "cell_type": "code",
   "execution_count": 229,
   "metadata": {},
   "outputs": [],
   "source": [
    "from sklearn.mixture import GaussianMixture"
   ]
  },
  {
   "cell_type": "code",
   "execution_count": 234,
   "metadata": {},
   "outputs": [],
   "source": [
    "gm = GaussianMixture(n_components=3).fit(features).predict(features)"
   ]
  },
  {
   "cell_type": "code",
   "execution_count": 235,
   "metadata": {},
   "outputs": [
    {
     "data": {
      "text/plain": [
       "0.22905672760442386"
      ]
     },
     "execution_count": 235,
     "metadata": {},
     "output_type": "execute_result"
    }
   ],
   "source": [
    "silhouette_score(features, gm)"
   ]
  },
  {
   "cell_type": "code",
   "execution_count": null,
   "metadata": {},
   "outputs": [],
   "source": []
  },
  {
   "cell_type": "code",
   "execution_count": 236,
   "metadata": {},
   "outputs": [
    {
     "data": {
      "text/html": [
       "<div>\n",
       "<style scoped>\n",
       "    .dataframe tbody tr th:only-of-type {\n",
       "        vertical-align: middle;\n",
       "    }\n",
       "\n",
       "    .dataframe tbody tr th {\n",
       "        vertical-align: top;\n",
       "    }\n",
       "\n",
       "    .dataframe thead th {\n",
       "        text-align: right;\n",
       "    }\n",
       "</style>\n",
       "<table border=\"1\" class=\"dataframe\">\n",
       "  <thead>\n",
       "    <tr style=\"text-align: right;\">\n",
       "      <th></th>\n",
       "      <th>crossing</th>\n",
       "      <th>finishing</th>\n",
       "      <th>headingaccuracy</th>\n",
       "      <th>shortpassing</th>\n",
       "      <th>volleys</th>\n",
       "      <th>dribbling</th>\n",
       "      <th>curve</th>\n",
       "      <th>fkaccuracy</th>\n",
       "      <th>longpassing</th>\n",
       "      <th>ballcontrol</th>\n",
       "      <th>...</th>\n",
       "      <th>longshots</th>\n",
       "      <th>aggression</th>\n",
       "      <th>interceptions</th>\n",
       "      <th>positioning</th>\n",
       "      <th>vision</th>\n",
       "      <th>penalties</th>\n",
       "      <th>composure</th>\n",
       "      <th>marking</th>\n",
       "      <th>standingtackle</th>\n",
       "      <th>slidingtackle</th>\n",
       "    </tr>\n",
       "  </thead>\n",
       "  <tbody>\n",
       "    <tr>\n",
       "      <th>0</th>\n",
       "      <td>64.784169</td>\n",
       "      <td>70.526921</td>\n",
       "      <td>59.860101</td>\n",
       "      <td>70.569719</td>\n",
       "      <td>65.679705</td>\n",
       "      <td>74.456512</td>\n",
       "      <td>66.630925</td>\n",
       "      <td>60.277957</td>\n",
       "      <td>61.342844</td>\n",
       "      <td>74.642430</td>\n",
       "      <td>...</td>\n",
       "      <td>68.605614</td>\n",
       "      <td>57.780948</td>\n",
       "      <td>37.726185</td>\n",
       "      <td>72.502531</td>\n",
       "      <td>68.615278</td>\n",
       "      <td>66.133916</td>\n",
       "      <td>70.418316</td>\n",
       "      <td>38.747814</td>\n",
       "      <td>36.575702</td>\n",
       "      <td>32.517257</td>\n",
       "    </tr>\n",
       "    <tr>\n",
       "      <th>1</th>\n",
       "      <td>50.169415</td>\n",
       "      <td>36.175412</td>\n",
       "      <td>71.116192</td>\n",
       "      <td>66.091454</td>\n",
       "      <td>36.835832</td>\n",
       "      <td>54.073463</td>\n",
       "      <td>43.844078</td>\n",
       "      <td>40.609445</td>\n",
       "      <td>61.701649</td>\n",
       "      <td>62.889805</td>\n",
       "      <td>...</td>\n",
       "      <td>42.739130</td>\n",
       "      <td>74.488006</td>\n",
       "      <td>72.596702</td>\n",
       "      <td>42.310345</td>\n",
       "      <td>49.020990</td>\n",
       "      <td>46.319340</td>\n",
       "      <td>66.905547</td>\n",
       "      <td>72.261619</td>\n",
       "      <td>74.462519</td>\n",
       "      <td>72.382309</td>\n",
       "    </tr>\n",
       "    <tr>\n",
       "      <th>2</th>\n",
       "      <td>67.608216</td>\n",
       "      <td>55.454323</td>\n",
       "      <td>61.001839</td>\n",
       "      <td>74.115880</td>\n",
       "      <td>54.388719</td>\n",
       "      <td>70.774372</td>\n",
       "      <td>64.896996</td>\n",
       "      <td>58.219497</td>\n",
       "      <td>70.429798</td>\n",
       "      <td>73.445126</td>\n",
       "      <td>...</td>\n",
       "      <td>64.448191</td>\n",
       "      <td>72.719804</td>\n",
       "      <td>71.140405</td>\n",
       "      <td>64.935622</td>\n",
       "      <td>68.358063</td>\n",
       "      <td>57.107296</td>\n",
       "      <td>70.917842</td>\n",
       "      <td>68.967505</td>\n",
       "      <td>71.651134</td>\n",
       "      <td>69.077253</td>\n",
       "    </tr>\n",
       "  </tbody>\n",
       "</table>\n",
       "<p>3 rows × 29 columns</p>\n",
       "</div>"
      ],
      "text/plain": [
       "    crossing  finishing  headingaccuracy  shortpassing    volleys  dribbling  \\\n",
       "0  64.784169  70.526921        59.860101     70.569719  65.679705  74.456512   \n",
       "1  50.169415  36.175412        71.116192     66.091454  36.835832  54.073463   \n",
       "2  67.608216  55.454323        61.001839     74.115880  54.388719  70.774372   \n",
       "\n",
       "       curve  fkaccuracy  longpassing  ballcontrol  ...  longshots  \\\n",
       "0  66.630925   60.277957    61.342844    74.642430  ...  68.605614   \n",
       "1  43.844078   40.609445    61.701649    62.889805  ...  42.739130   \n",
       "2  64.896996   58.219497    70.429798    73.445126  ...  64.448191   \n",
       "\n",
       "   aggression  interceptions  positioning     vision  penalties  composure  \\\n",
       "0   57.780948      37.726185    72.502531  68.615278  66.133916  70.418316   \n",
       "1   74.488006      72.596702    42.310345  49.020990  46.319340  66.905547   \n",
       "2   72.719804      71.140405    64.935622  68.358063  57.107296  70.917842   \n",
       "\n",
       "     marking  standingtackle  slidingtackle  \n",
       "0  38.747814       36.575702      32.517257  \n",
       "1  72.261619       74.462519      72.382309  \n",
       "2  68.967505       71.651134      69.077253  \n",
       "\n",
       "[3 rows x 29 columns]"
      ]
     },
     "execution_count": 236,
     "metadata": {},
     "output_type": "execute_result"
    }
   ],
   "source": [
    "features.groupby(gm).mean()"
   ]
  },
  {
   "cell_type": "code",
   "execution_count": 38,
   "metadata": {},
   "outputs": [],
   "source": [
    "from sklearn.tree import DecisionTreeClassifier\n",
    "\n",
    "from sklearn.tree import export_graphviz\n",
    "import graphviz"
   ]
  },
  {
   "cell_type": "code",
   "execution_count": 39,
   "metadata": {},
   "outputs": [
    {
     "data": {
      "text/plain": [
       "DecisionTreeClassifier(class_weight=None, criterion='entropy', max_depth=5,\n",
       "            max_features=None, max_leaf_nodes=None,\n",
       "            min_impurity_decrease=0.0, min_impurity_split=None,\n",
       "            min_samples_leaf=80, min_samples_split=2,\n",
       "            min_weight_fraction_leaf=0.0, presort=False, random_state=None,\n",
       "            splitter='best')"
      ]
     },
     "execution_count": 39,
     "metadata": {},
     "output_type": "execute_result"
    }
   ],
   "source": [
    "dt = DecisionTreeClassifier(criterion=\"entropy\", max_depth=5, min_samples_leaf=80)\n",
    "dt.fit(features, skm.labels_)"
   ]
  },
  {
   "cell_type": "code",
   "execution_count": 40,
   "metadata": {},
   "outputs": [],
   "source": [
    "export_graphviz(dt, out_file=\"fifa.dot\", \n",
    "                feature_names=features.columns, \n",
    "                class_names=[\"F\", \"M\", \"D\"], proportion=True, filled=True)"
   ]
  },
  {
   "cell_type": "code",
   "execution_count": 41,
   "metadata": {},
   "outputs": [],
   "source": [
    "# with open(\"fifa.dot\") as f:\n",
    "#     dot_graph = f.read()\n",
    "    \n",
    "# graphviz.Source(dot_graph)"
   ]
  },
  {
   "cell_type": "code",
   "execution_count": 117,
   "metadata": {},
   "outputs": [],
   "source": [
    "from spherecluster import SphericalKMeans"
   ]
  },
  {
   "cell_type": "code",
   "execution_count": 109,
   "metadata": {},
   "outputs": [],
   "source": [
    "labs = skm.labels_"
   ]
  },
  {
   "cell_type": "code",
   "execution_count": 247,
   "metadata": {},
   "outputs": [],
   "source": [
    "# gm"
   ]
  },
  {
   "cell_type": "code",
   "execution_count": null,
   "metadata": {},
   "outputs": [],
   "source": []
  },
  {
   "cell_type": "code",
   "execution_count": 110,
   "metadata": {},
   "outputs": [],
   "source": [
    "forwards = features[labs==]"
   ]
  },
  {
   "cell_type": "code",
   "execution_count": 111,
   "metadata": {},
   "outputs": [
    {
     "data": {
      "text/plain": [
       "(1961, 11)"
      ]
     },
     "execution_count": 111,
     "metadata": {},
     "output_type": "execute_result"
    }
   ],
   "source": [
    "forwards.shape"
   ]
  },
  {
   "cell_type": "code",
   "execution_count": 114,
   "metadata": {},
   "outputs": [],
   "source": [
    "from sklearn.cluster import KMeans, AgglomerativeClustering, SpectralClustering"
   ]
  },
  {
   "cell_type": "code",
   "execution_count": 116,
   "metadata": {
    "collapsed": true
   },
   "outputs": [
    {
     "ename": "KeyboardInterrupt",
     "evalue": "",
     "output_type": "error",
     "traceback": [
      "\u001b[0;31m---------------------------------------------------------------------------\u001b[0m",
      "\u001b[0;31mKeyboardInterrupt\u001b[0m                         Traceback (most recent call last)",
      "\u001b[0;32m<ipython-input-116-7bec41c6e647>\u001b[0m in \u001b[0;36m<module>\u001b[0;34m\u001b[0m\n\u001b[1;32m      1\u001b[0m \u001b[0mkm\u001b[0m \u001b[0;34m=\u001b[0m \u001b[0mSpectralClustering\u001b[0m\u001b[0;34m(\u001b[0m\u001b[0mn_clusters\u001b[0m\u001b[0;34m=\u001b[0m\u001b[0mk\u001b[0m\u001b[0;34m)\u001b[0m\u001b[0;34m\u001b[0m\u001b[0;34m\u001b[0m\u001b[0m\n\u001b[0;32m----> 2\u001b[0;31m \u001b[0mkm\u001b[0m\u001b[0;34m.\u001b[0m\u001b[0mfit\u001b[0m\u001b[0;34m(\u001b[0m\u001b[0mforwards\u001b[0m\u001b[0;34m)\u001b[0m\u001b[0;34m\u001b[0m\u001b[0;34m\u001b[0m\u001b[0m\n\u001b[0m\u001b[1;32m      3\u001b[0m \u001b[0msilhouette_score\u001b[0m\u001b[0;34m(\u001b[0m\u001b[0mforwards\u001b[0m\u001b[0;34m,\u001b[0m \u001b[0mkm\u001b[0m\u001b[0;34m.\u001b[0m\u001b[0mlabels_\u001b[0m\u001b[0;34m)\u001b[0m\u001b[0;34m\u001b[0m\u001b[0;34m\u001b[0m\u001b[0m\n",
      "\u001b[0;32m~/anaconda3/lib/python3.6/site-packages/sklearn/cluster/spectral.py\u001b[0m in \u001b[0;36mfit\u001b[0;34m(self, X, y)\u001b[0m\n\u001b[1;32m    491\u001b[0m                                            \u001b[0mn_init\u001b[0m\u001b[0;34m=\u001b[0m\u001b[0mself\u001b[0m\u001b[0;34m.\u001b[0m\u001b[0mn_init\u001b[0m\u001b[0;34m,\u001b[0m\u001b[0;34m\u001b[0m\u001b[0;34m\u001b[0m\u001b[0m\n\u001b[1;32m    492\u001b[0m                                            \u001b[0meigen_tol\u001b[0m\u001b[0;34m=\u001b[0m\u001b[0mself\u001b[0m\u001b[0;34m.\u001b[0m\u001b[0meigen_tol\u001b[0m\u001b[0;34m,\u001b[0m\u001b[0;34m\u001b[0m\u001b[0;34m\u001b[0m\u001b[0m\n\u001b[0;32m--> 493\u001b[0;31m                                            assign_labels=self.assign_labels)\n\u001b[0m\u001b[1;32m    494\u001b[0m         \u001b[0;32mreturn\u001b[0m \u001b[0mself\u001b[0m\u001b[0;34m\u001b[0m\u001b[0;34m\u001b[0m\u001b[0m\n\u001b[1;32m    495\u001b[0m \u001b[0;34m\u001b[0m\u001b[0m\n",
      "\u001b[0;32m~/anaconda3/lib/python3.6/site-packages/sklearn/cluster/spectral.py\u001b[0m in \u001b[0;36mspectral_clustering\u001b[0;34m(affinity, n_clusters, n_components, eigen_solver, random_state, n_init, eigen_tol, assign_labels)\u001b[0m\n\u001b[1;32m    262\u001b[0m                               \u001b[0meigen_solver\u001b[0m\u001b[0;34m=\u001b[0m\u001b[0meigen_solver\u001b[0m\u001b[0;34m,\u001b[0m\u001b[0;34m\u001b[0m\u001b[0;34m\u001b[0m\u001b[0m\n\u001b[1;32m    263\u001b[0m                               \u001b[0mrandom_state\u001b[0m\u001b[0;34m=\u001b[0m\u001b[0mrandom_state\u001b[0m\u001b[0;34m,\u001b[0m\u001b[0;34m\u001b[0m\u001b[0;34m\u001b[0m\u001b[0m\n\u001b[0;32m--> 264\u001b[0;31m                               eigen_tol=eigen_tol, drop_first=False)\n\u001b[0m\u001b[1;32m    265\u001b[0m \u001b[0;34m\u001b[0m\u001b[0m\n\u001b[1;32m    266\u001b[0m     \u001b[0;32mif\u001b[0m \u001b[0massign_labels\u001b[0m \u001b[0;34m==\u001b[0m \u001b[0;34m'kmeans'\u001b[0m\u001b[0;34m:\u001b[0m\u001b[0;34m\u001b[0m\u001b[0;34m\u001b[0m\u001b[0m\n",
      "\u001b[0;32m~/anaconda3/lib/python3.6/site-packages/sklearn/manifold/spectral_embedding_.py\u001b[0m in \u001b[0;36mspectral_embedding\u001b[0;34m(adjacency, n_components, eigen_solver, random_state, eigen_tol, norm_laplacian, drop_first)\u001b[0m\n\u001b[1;32m    271\u001b[0m             lambdas, diffusion_map = eigsh(laplacian, k=n_components,\n\u001b[1;32m    272\u001b[0m                                            \u001b[0msigma\u001b[0m\u001b[0;34m=\u001b[0m\u001b[0;36m1.0\u001b[0m\u001b[0;34m,\u001b[0m \u001b[0mwhich\u001b[0m\u001b[0;34m=\u001b[0m\u001b[0;34m'LM'\u001b[0m\u001b[0;34m,\u001b[0m\u001b[0;34m\u001b[0m\u001b[0;34m\u001b[0m\u001b[0m\n\u001b[0;32m--> 273\u001b[0;31m                                            tol=eigen_tol, v0=v0)\n\u001b[0m\u001b[1;32m    274\u001b[0m             \u001b[0membedding\u001b[0m \u001b[0;34m=\u001b[0m \u001b[0mdiffusion_map\u001b[0m\u001b[0;34m.\u001b[0m\u001b[0mT\u001b[0m\u001b[0;34m[\u001b[0m\u001b[0mn_components\u001b[0m\u001b[0;34m:\u001b[0m\u001b[0;34m:\u001b[0m\u001b[0;34m-\u001b[0m\u001b[0;36m1\u001b[0m\u001b[0;34m]\u001b[0m\u001b[0;34m\u001b[0m\u001b[0;34m\u001b[0m\u001b[0m\n\u001b[1;32m    275\u001b[0m             \u001b[0;32mif\u001b[0m \u001b[0mnorm_laplacian\u001b[0m\u001b[0;34m:\u001b[0m\u001b[0;34m\u001b[0m\u001b[0;34m\u001b[0m\u001b[0m\n",
      "\u001b[0;32m~/anaconda3/lib/python3.6/site-packages/scipy/sparse/linalg/eigen/arpack/arpack.py\u001b[0m in \u001b[0;36meigsh\u001b[0;34m(A, k, M, sigma, which, v0, ncv, maxiter, tol, return_eigenvectors, Minv, OPinv, mode)\u001b[0m\n\u001b[1;32m   1649\u001b[0m     \u001b[0;32mwith\u001b[0m \u001b[0m_ARPACK_LOCK\u001b[0m\u001b[0;34m:\u001b[0m\u001b[0;34m\u001b[0m\u001b[0;34m\u001b[0m\u001b[0m\n\u001b[1;32m   1650\u001b[0m         \u001b[0;32mwhile\u001b[0m \u001b[0;32mnot\u001b[0m \u001b[0mparams\u001b[0m\u001b[0;34m.\u001b[0m\u001b[0mconverged\u001b[0m\u001b[0;34m:\u001b[0m\u001b[0;34m\u001b[0m\u001b[0;34m\u001b[0m\u001b[0m\n\u001b[0;32m-> 1651\u001b[0;31m             \u001b[0mparams\u001b[0m\u001b[0;34m.\u001b[0m\u001b[0miterate\u001b[0m\u001b[0;34m(\u001b[0m\u001b[0;34m)\u001b[0m\u001b[0;34m\u001b[0m\u001b[0;34m\u001b[0m\u001b[0m\n\u001b[0m\u001b[1;32m   1652\u001b[0m \u001b[0;34m\u001b[0m\u001b[0m\n\u001b[1;32m   1653\u001b[0m         \u001b[0;32mreturn\u001b[0m \u001b[0mparams\u001b[0m\u001b[0;34m.\u001b[0m\u001b[0mextract\u001b[0m\u001b[0;34m(\u001b[0m\u001b[0mreturn_eigenvectors\u001b[0m\u001b[0;34m)\u001b[0m\u001b[0;34m\u001b[0m\u001b[0;34m\u001b[0m\u001b[0m\n",
      "\u001b[0;32m~/anaconda3/lib/python3.6/site-packages/scipy/sparse/linalg/eigen/arpack/arpack.py\u001b[0m in \u001b[0;36miterate\u001b[0;34m(self)\u001b[0m\n\u001b[1;32m    557\u001b[0m             \u001b[0;32melse\u001b[0m\u001b[0;34m:\u001b[0m\u001b[0;34m\u001b[0m\u001b[0;34m\u001b[0m\u001b[0m\n\u001b[1;32m    558\u001b[0m                 \u001b[0mBxslice\u001b[0m \u001b[0;34m=\u001b[0m \u001b[0mslice\u001b[0m\u001b[0;34m(\u001b[0m\u001b[0mself\u001b[0m\u001b[0;34m.\u001b[0m\u001b[0mipntr\u001b[0m\u001b[0;34m[\u001b[0m\u001b[0;36m2\u001b[0m\u001b[0;34m]\u001b[0m \u001b[0;34m-\u001b[0m \u001b[0;36m1\u001b[0m\u001b[0;34m,\u001b[0m \u001b[0mself\u001b[0m\u001b[0;34m.\u001b[0m\u001b[0mipntr\u001b[0m\u001b[0;34m[\u001b[0m\u001b[0;36m2\u001b[0m\u001b[0;34m]\u001b[0m \u001b[0;34m-\u001b[0m \u001b[0;36m1\u001b[0m \u001b[0;34m+\u001b[0m \u001b[0mself\u001b[0m\u001b[0;34m.\u001b[0m\u001b[0mn\u001b[0m\u001b[0;34m)\u001b[0m\u001b[0;34m\u001b[0m\u001b[0;34m\u001b[0m\u001b[0m\n\u001b[0;32m--> 559\u001b[0;31m                 \u001b[0mself\u001b[0m\u001b[0;34m.\u001b[0m\u001b[0mworkd\u001b[0m\u001b[0;34m[\u001b[0m\u001b[0myslice\u001b[0m\u001b[0;34m]\u001b[0m \u001b[0;34m=\u001b[0m \u001b[0mself\u001b[0m\u001b[0;34m.\u001b[0m\u001b[0mOPa\u001b[0m\u001b[0;34m(\u001b[0m\u001b[0mself\u001b[0m\u001b[0;34m.\u001b[0m\u001b[0mworkd\u001b[0m\u001b[0;34m[\u001b[0m\u001b[0mBxslice\u001b[0m\u001b[0;34m]\u001b[0m\u001b[0;34m)\u001b[0m\u001b[0;34m\u001b[0m\u001b[0;34m\u001b[0m\u001b[0m\n\u001b[0m\u001b[1;32m    560\u001b[0m         \u001b[0;32melif\u001b[0m \u001b[0mself\u001b[0m\u001b[0;34m.\u001b[0m\u001b[0mido\u001b[0m \u001b[0;34m==\u001b[0m \u001b[0;36m2\u001b[0m\u001b[0;34m:\u001b[0m\u001b[0;34m\u001b[0m\u001b[0;34m\u001b[0m\u001b[0m\n\u001b[1;32m    561\u001b[0m             \u001b[0mself\u001b[0m\u001b[0;34m.\u001b[0m\u001b[0mworkd\u001b[0m\u001b[0;34m[\u001b[0m\u001b[0myslice\u001b[0m\u001b[0;34m]\u001b[0m \u001b[0;34m=\u001b[0m \u001b[0mself\u001b[0m\u001b[0;34m.\u001b[0m\u001b[0mB\u001b[0m\u001b[0;34m(\u001b[0m\u001b[0mself\u001b[0m\u001b[0;34m.\u001b[0m\u001b[0mworkd\u001b[0m\u001b[0;34m[\u001b[0m\u001b[0mxslice\u001b[0m\u001b[0;34m]\u001b[0m\u001b[0;34m)\u001b[0m\u001b[0;34m\u001b[0m\u001b[0;34m\u001b[0m\u001b[0m\n",
      "\u001b[0;32m~/anaconda3/lib/python3.6/site-packages/scipy/sparse/linalg/interface.py\u001b[0m in \u001b[0;36mmatvec\u001b[0;34m(self, x)\u001b[0m\n\u001b[1;32m    217\u001b[0m             \u001b[0;32mraise\u001b[0m \u001b[0mValueError\u001b[0m\u001b[0;34m(\u001b[0m\u001b[0;34m'dimension mismatch'\u001b[0m\u001b[0;34m)\u001b[0m\u001b[0;34m\u001b[0m\u001b[0;34m\u001b[0m\u001b[0m\n\u001b[1;32m    218\u001b[0m \u001b[0;34m\u001b[0m\u001b[0m\n\u001b[0;32m--> 219\u001b[0;31m         \u001b[0my\u001b[0m \u001b[0;34m=\u001b[0m \u001b[0mself\u001b[0m\u001b[0;34m.\u001b[0m\u001b[0m_matvec\u001b[0m\u001b[0;34m(\u001b[0m\u001b[0mx\u001b[0m\u001b[0;34m)\u001b[0m\u001b[0;34m\u001b[0m\u001b[0;34m\u001b[0m\u001b[0m\n\u001b[0m\u001b[1;32m    220\u001b[0m \u001b[0;34m\u001b[0m\u001b[0m\n\u001b[1;32m    221\u001b[0m         \u001b[0;32mif\u001b[0m \u001b[0misinstance\u001b[0m\u001b[0;34m(\u001b[0m\u001b[0mx\u001b[0m\u001b[0;34m,\u001b[0m \u001b[0mnp\u001b[0m\u001b[0;34m.\u001b[0m\u001b[0mmatrix\u001b[0m\u001b[0;34m)\u001b[0m\u001b[0;34m:\u001b[0m\u001b[0;34m\u001b[0m\u001b[0;34m\u001b[0m\u001b[0m\n",
      "\u001b[0;32m~/anaconda3/lib/python3.6/site-packages/scipy/sparse/linalg/eigen/arpack/arpack.py\u001b[0m in \u001b[0;36m_matvec\u001b[0;34m(self, x)\u001b[0m\n\u001b[1;32m    934\u001b[0m \u001b[0;34m\u001b[0m\u001b[0m\n\u001b[1;32m    935\u001b[0m     \u001b[0;32mdef\u001b[0m \u001b[0m_matvec\u001b[0m\u001b[0;34m(\u001b[0m\u001b[0mself\u001b[0m\u001b[0;34m,\u001b[0m \u001b[0mx\u001b[0m\u001b[0;34m)\u001b[0m\u001b[0;34m:\u001b[0m\u001b[0;34m\u001b[0m\u001b[0;34m\u001b[0m\u001b[0m\n\u001b[0;32m--> 936\u001b[0;31m         \u001b[0;32mreturn\u001b[0m \u001b[0mlu_solve\u001b[0m\u001b[0;34m(\u001b[0m\u001b[0mself\u001b[0m\u001b[0;34m.\u001b[0m\u001b[0mM_lu\u001b[0m\u001b[0;34m,\u001b[0m \u001b[0mx\u001b[0m\u001b[0;34m)\u001b[0m\u001b[0;34m\u001b[0m\u001b[0;34m\u001b[0m\u001b[0m\n\u001b[0m\u001b[1;32m    937\u001b[0m \u001b[0;34m\u001b[0m\u001b[0m\n\u001b[1;32m    938\u001b[0m \u001b[0;34m\u001b[0m\u001b[0m\n",
      "\u001b[0;32m~/anaconda3/lib/python3.6/site-packages/scipy/linalg/decomp_lu.py\u001b[0m in \u001b[0;36mlu_solve\u001b[0;34m(lu_and_piv, b, trans, overwrite_b, check_finite)\u001b[0m\n\u001b[1;32m    144\u001b[0m \u001b[0;34m\u001b[0m\u001b[0m\n\u001b[1;32m    145\u001b[0m     \u001b[0mgetrs\u001b[0m\u001b[0;34m,\u001b[0m \u001b[0;34m=\u001b[0m \u001b[0mget_lapack_funcs\u001b[0m\u001b[0;34m(\u001b[0m\u001b[0;34m(\u001b[0m\u001b[0;34m'getrs'\u001b[0m\u001b[0;34m,\u001b[0m\u001b[0;34m)\u001b[0m\u001b[0;34m,\u001b[0m \u001b[0;34m(\u001b[0m\u001b[0mlu\u001b[0m\u001b[0;34m,\u001b[0m \u001b[0mb1\u001b[0m\u001b[0;34m)\u001b[0m\u001b[0;34m)\u001b[0m\u001b[0;34m\u001b[0m\u001b[0;34m\u001b[0m\u001b[0m\n\u001b[0;32m--> 146\u001b[0;31m     \u001b[0mx\u001b[0m\u001b[0;34m,\u001b[0m \u001b[0minfo\u001b[0m \u001b[0;34m=\u001b[0m \u001b[0mgetrs\u001b[0m\u001b[0;34m(\u001b[0m\u001b[0mlu\u001b[0m\u001b[0;34m,\u001b[0m \u001b[0mpiv\u001b[0m\u001b[0;34m,\u001b[0m \u001b[0mb1\u001b[0m\u001b[0;34m,\u001b[0m \u001b[0mtrans\u001b[0m\u001b[0;34m=\u001b[0m\u001b[0mtrans\u001b[0m\u001b[0;34m,\u001b[0m \u001b[0moverwrite_b\u001b[0m\u001b[0;34m=\u001b[0m\u001b[0moverwrite_b\u001b[0m\u001b[0;34m)\u001b[0m\u001b[0;34m\u001b[0m\u001b[0;34m\u001b[0m\u001b[0m\n\u001b[0m\u001b[1;32m    147\u001b[0m     \u001b[0;32mif\u001b[0m \u001b[0minfo\u001b[0m \u001b[0;34m==\u001b[0m \u001b[0;36m0\u001b[0m\u001b[0;34m:\u001b[0m\u001b[0;34m\u001b[0m\u001b[0;34m\u001b[0m\u001b[0m\n\u001b[1;32m    148\u001b[0m         \u001b[0;32mreturn\u001b[0m \u001b[0mx\u001b[0m\u001b[0;34m\u001b[0m\u001b[0;34m\u001b[0m\u001b[0m\n",
      "\u001b[0;31mKeyboardInterrupt\u001b[0m: "
     ]
    }
   ],
   "source": [
    "km = SpectralClustering(n_clusters=k)\n",
    "km.fit(forwards)\n",
    "silhouette_score(forwards, km.labels_)"
   ]
  },
  {
   "cell_type": "code",
   "execution_count": 86,
   "metadata": {},
   "outputs": [],
   "source": [
    "indy = forwards.groupby(skm.labels_).mean().std().sort_values(ascending = False).index"
   ]
  },
  {
   "cell_type": "code",
   "execution_count": 87,
   "metadata": {},
   "outputs": [
    {
     "data": {
      "text/html": [
       "<div>\n",
       "<style scoped>\n",
       "    .dataframe tbody tr th:only-of-type {\n",
       "        vertical-align: middle;\n",
       "    }\n",
       "\n",
       "    .dataframe tbody tr th {\n",
       "        vertical-align: top;\n",
       "    }\n",
       "\n",
       "    .dataframe thead th {\n",
       "        text-align: right;\n",
       "    }\n",
       "</style>\n",
       "<table border=\"1\" class=\"dataframe\">\n",
       "  <thead>\n",
       "    <tr style=\"text-align: right;\">\n",
       "      <th></th>\n",
       "      <th>0</th>\n",
       "      <th>1</th>\n",
       "      <th>2</th>\n",
       "    </tr>\n",
       "  </thead>\n",
       "  <tbody>\n",
       "    <tr>\n",
       "      <th>crossing</th>\n",
       "      <td>46.152778</td>\n",
       "      <td>35.200000</td>\n",
       "      <td>55.024631</td>\n",
       "    </tr>\n",
       "    <tr>\n",
       "      <th>acceleration</th>\n",
       "      <td>46.857639</td>\n",
       "      <td>56.205333</td>\n",
       "      <td>66.413793</td>\n",
       "    </tr>\n",
       "    <tr>\n",
       "      <th>sprintspeed</th>\n",
       "      <td>50.256944</td>\n",
       "      <td>59.709333</td>\n",
       "      <td>68.403941</td>\n",
       "    </tr>\n",
       "    <tr>\n",
       "      <th>longshots</th>\n",
       "      <td>47.496528</td>\n",
       "      <td>30.621333</td>\n",
       "      <td>40.911330</td>\n",
       "    </tr>\n",
       "    <tr>\n",
       "      <th>agility</th>\n",
       "      <td>47.045139</td>\n",
       "      <td>51.760000</td>\n",
       "      <td>63.258621</td>\n",
       "    </tr>\n",
       "    <tr>\n",
       "      <th>balance</th>\n",
       "      <td>46.329861</td>\n",
       "      <td>51.749333</td>\n",
       "      <td>62.189655</td>\n",
       "    </tr>\n",
       "    <tr>\n",
       "      <th>fkaccuracy</th>\n",
       "      <td>45.506944</td>\n",
       "      <td>29.528000</td>\n",
       "      <td>37.578818</td>\n",
       "    </tr>\n",
       "    <tr>\n",
       "      <th>curve</th>\n",
       "      <td>45.305556</td>\n",
       "      <td>31.421333</td>\n",
       "      <td>43.620690</td>\n",
       "    </tr>\n",
       "    <tr>\n",
       "      <th>positioning</th>\n",
       "      <td>40.409722</td>\n",
       "      <td>30.666667</td>\n",
       "      <td>45.463054</td>\n",
       "    </tr>\n",
       "    <tr>\n",
       "      <th>shotpower</th>\n",
       "      <td>64.093750</td>\n",
       "      <td>49.765333</td>\n",
       "      <td>55.374384</td>\n",
       "    </tr>\n",
       "    <tr>\n",
       "      <th>vision</th>\n",
       "      <td>50.270833</td>\n",
       "      <td>38.989333</td>\n",
       "      <td>51.576355</td>\n",
       "    </tr>\n",
       "    <tr>\n",
       "      <th>dribbling</th>\n",
       "      <td>50.510417</td>\n",
       "      <td>44.810667</td>\n",
       "      <td>57.889163</td>\n",
       "    </tr>\n",
       "    <tr>\n",
       "      <th>penalties</th>\n",
       "      <td>50.527778</td>\n",
       "      <td>39.066667</td>\n",
       "      <td>43.913793</td>\n",
       "    </tr>\n",
       "    <tr>\n",
       "      <th>jumping</th>\n",
       "      <td>65.274306</td>\n",
       "      <td>73.677333</td>\n",
       "      <td>76.110837</td>\n",
       "    </tr>\n",
       "    <tr>\n",
       "      <th>volleys</th>\n",
       "      <td>39.552083</td>\n",
       "      <td>28.656000</td>\n",
       "      <td>36.086207</td>\n",
       "    </tr>\n",
       "    <tr>\n",
       "      <th>finishing</th>\n",
       "      <td>38.659722</td>\n",
       "      <td>27.984000</td>\n",
       "      <td>35.477833</td>\n",
       "    </tr>\n",
       "    <tr>\n",
       "      <th>stamina</th>\n",
       "      <td>63.753472</td>\n",
       "      <td>66.029333</td>\n",
       "      <td>72.857143</td>\n",
       "    </tr>\n",
       "    <tr>\n",
       "      <th>longpassing</th>\n",
       "      <td>63.840278</td>\n",
       "      <td>55.648000</td>\n",
       "      <td>62.603448</td>\n",
       "    </tr>\n",
       "    <tr>\n",
       "      <th>ballcontrol</th>\n",
       "      <td>61.791667</td>\n",
       "      <td>56.930667</td>\n",
       "      <td>64.881773</td>\n",
       "    </tr>\n",
       "    <tr>\n",
       "      <th>strength</th>\n",
       "      <td>82.916667</td>\n",
       "      <td>81.365333</td>\n",
       "      <td>76.290640</td>\n",
       "    </tr>\n",
       "    <tr>\n",
       "      <th>shortpassing</th>\n",
       "      <td>66.447917</td>\n",
       "      <td>61.405333</td>\n",
       "      <td>67.233990</td>\n",
       "    </tr>\n",
       "    <tr>\n",
       "      <th>headingaccuracy</th>\n",
       "      <td>74.986111</td>\n",
       "      <td>73.909333</td>\n",
       "      <td>70.209360</td>\n",
       "    </tr>\n",
       "    <tr>\n",
       "      <th>composure</th>\n",
       "      <td>68.725694</td>\n",
       "      <td>65.802667</td>\n",
       "      <td>66.568966</td>\n",
       "    </tr>\n",
       "    <tr>\n",
       "      <th>aggression</th>\n",
       "      <td>76.913194</td>\n",
       "      <td>74.858667</td>\n",
       "      <td>74.995074</td>\n",
       "    </tr>\n",
       "    <tr>\n",
       "      <th>marking</th>\n",
       "      <td>73.972222</td>\n",
       "      <td>73.042667</td>\n",
       "      <td>71.886700</td>\n",
       "    </tr>\n",
       "    <tr>\n",
       "      <th>reactions</th>\n",
       "      <td>69.902778</td>\n",
       "      <td>68.261333</td>\n",
       "      <td>69.201970</td>\n",
       "    </tr>\n",
       "    <tr>\n",
       "      <th>interceptions</th>\n",
       "      <td>74.038194</td>\n",
       "      <td>72.730667</td>\n",
       "      <td>72.623153</td>\n",
       "    </tr>\n",
       "    <tr>\n",
       "      <th>standingtackle</th>\n",
       "      <td>75.625000</td>\n",
       "      <td>75.106667</td>\n",
       "      <td>74.386700</td>\n",
       "    </tr>\n",
       "    <tr>\n",
       "      <th>slidingtackle</th>\n",
       "      <td>72.100694</td>\n",
       "      <td>72.584000</td>\n",
       "      <td>72.716749</td>\n",
       "    </tr>\n",
       "  </tbody>\n",
       "</table>\n",
       "</div>"
      ],
      "text/plain": [
       "                         0          1          2\n",
       "crossing         46.152778  35.200000  55.024631\n",
       "acceleration     46.857639  56.205333  66.413793\n",
       "sprintspeed      50.256944  59.709333  68.403941\n",
       "longshots        47.496528  30.621333  40.911330\n",
       "agility          47.045139  51.760000  63.258621\n",
       "balance          46.329861  51.749333  62.189655\n",
       "fkaccuracy       45.506944  29.528000  37.578818\n",
       "curve            45.305556  31.421333  43.620690\n",
       "positioning      40.409722  30.666667  45.463054\n",
       "shotpower        64.093750  49.765333  55.374384\n",
       "vision           50.270833  38.989333  51.576355\n",
       "dribbling        50.510417  44.810667  57.889163\n",
       "penalties        50.527778  39.066667  43.913793\n",
       "jumping          65.274306  73.677333  76.110837\n",
       "volleys          39.552083  28.656000  36.086207\n",
       "finishing        38.659722  27.984000  35.477833\n",
       "stamina          63.753472  66.029333  72.857143\n",
       "longpassing      63.840278  55.648000  62.603448\n",
       "ballcontrol      61.791667  56.930667  64.881773\n",
       "strength         82.916667  81.365333  76.290640\n",
       "shortpassing     66.447917  61.405333  67.233990\n",
       "headingaccuracy  74.986111  73.909333  70.209360\n",
       "composure        68.725694  65.802667  66.568966\n",
       "aggression       76.913194  74.858667  74.995074\n",
       "marking          73.972222  73.042667  71.886700\n",
       "reactions        69.902778  68.261333  69.201970\n",
       "interceptions    74.038194  72.730667  72.623153\n",
       "standingtackle   75.625000  75.106667  74.386700\n",
       "slidingtackle    72.100694  72.584000  72.716749"
      ]
     },
     "execution_count": 87,
     "metadata": {},
     "output_type": "execute_result"
    }
   ],
   "source": [
    "forwards.groupby(skm.labels_).mean()[indy].T"
   ]
  },
  {
   "cell_type": "code",
   "execution_count": 90,
   "metadata": {},
   "outputs": [
    {
     "data": {
      "text/plain": [
       "id\n",
       "182493             D. Godín\n",
       "178603           M. Hummels\n",
       "152729                Piqué\n",
       "203376          V. van Dijk\n",
       "184344           L. Bonucci\n",
       "184087      T. Alderweireld\n",
       "192366          N. Otamendi\n",
       "183907           J. Boateng\n",
       "139720           V. Kompany\n",
       "120533                 Pepe\n",
       "212218           A. Laporte\n",
       "157481          Raúl Albiol\n",
       "199845            F. Acerbi\n",
       "177610        Javi Martínez\n",
       "235243           M. de Ligt\n",
       "230225       Juiano Mestres\n",
       "203263           H. Maguire\n",
       "201956              S. Sané\n",
       "197655            S. Coates\n",
       "193469          Víctor Ruiz\n",
       "192227           S. Mustafi\n",
       "183376             L. Fejsa\n",
       "183280              A. Rami\n",
       "181786           V. Ćorluka\n",
       "179847             F. Fazio\n",
       "170481             E. Garay\n",
       "179784           B. Höwedes\n",
       "179645              S. Kjær\n",
       "221540                 Raúl\n",
       "207862            M. Ginter\n",
       "                ...        \n",
       "192555          I. El Adoua\n",
       "239670     Jefferson Santos\n",
       "219451               N. Paz\n",
       "210236            M. Hefele\n",
       "183361             A. Weber\n",
       "193602           M. Coronel\n",
       "153160            R. Raldes\n",
       "204121            J. Brabec\n",
       "148569        M. Wasilewski\n",
       "222553         S. Griesbeck\n",
       "165736           D. Wheater\n",
       "230249       Marlinito Dias\n",
       "189824        Renato Chaves\n",
       "105866              C. Bovo\n",
       "182412              Dai Lin\n",
       "224142             C. Henao\n",
       "198062        Pichu Atienza\n",
       "224186           J. de Wijs\n",
       "166851           K. Árnason\n",
       "200395             M. Silva\n",
       "204496             P. Bauer\n",
       "214480             J. López\n",
       "123603        H. Campagnaro\n",
       "191443        F. Mancinelli\n",
       "216284            F. Ballas\n",
       "183283           J. Taravel\n",
       "184820               Felipe\n",
       "240122              Matheus\n",
       "178684    Nuno André Coelho\n",
       "230398       Eltson Marques\n",
       "Name: name, Length: 288, dtype: object"
      ]
     },
     "execution_count": 90,
     "metadata": {},
     "output_type": "execute_result"
    }
   ],
   "source": [
    "data.loc[forwards[skm.labels_==0].index, \"name\"]"
   ]
  },
  {
   "cell_type": "code",
   "execution_count": 63,
   "metadata": {},
   "outputs": [
    {
     "data": {
      "text/plain": [
       "(5138, 78)"
      ]
     },
     "execution_count": 63,
     "metadata": {},
     "output_type": "execute_result"
    }
   ],
   "source": [
    "data.shape"
   ]
  },
  {
   "cell_type": "code",
   "execution_count": 126,
   "metadata": {},
   "outputs": [],
   "source": [
    "from sklearn.datasets import make_blobs, make_circles, make_moons"
   ]
  },
  {
   "cell_type": "code",
   "execution_count": 237,
   "metadata": {},
   "outputs": [],
   "source": [
    "X, _ = make_blobs(n_samples=300, n_features=2, centers=3)"
   ]
  },
  {
   "cell_type": "code",
   "execution_count": 238,
   "metadata": {},
   "outputs": [
    {
     "data": {
      "text/plain": [
       "<matplotlib.collections.PathCollection at 0x1a1c69e2b0>"
      ]
     },
     "execution_count": 238,
     "metadata": {},
     "output_type": "execute_result"
    },
    {
     "data": {
      "image/png": "[encoded data removed]",
      "text/plain": [
       "<Figure size 432x288 with 1 Axes>"
      ]
     },
     "metadata": {},
     "output_type": "display_data"
    }
   ],
   "source": [
    "plt.scatter(X[:,0], X[:, 1])"
   ]
  },
  {
   "cell_type": "code",
   "execution_count": 239,
   "metadata": {},
   "outputs": [
    {
     "data": {
      "text/plain": [
       "SphericalKMeans(copy_x=True, init='k-means++', max_iter=300, n_clusters=3,\n",
       "        n_init=10, n_jobs=1, normalize=True, random_state=None, tol=0.0001,\n",
       "        verbose=0)"
      ]
     },
     "execution_count": 239,
     "metadata": {},
     "output_type": "execute_result"
    },
    {
     "data": {
      "text/plain": [
       "KMeans(algorithm='auto', copy_x=True, init='k-means++', max_iter=300,\n",
       "    n_clusters=3, n_init=10, n_jobs=None, precompute_distances='auto',\n",
       "    random_state=None, tol=0.0001, verbose=0)"
      ]
     },
     "execution_count": 239,
     "metadata": {},
     "output_type": "execute_result"
    }
   ],
   "source": [
    "skm = SphericalKMeans(3)\n",
    "km = KMeans(3)\n",
    "skm.fit(X)\n",
    "km.fit(X)"
   ]
  },
  {
   "cell_type": "code",
   "execution_count": 240,
   "metadata": {},
   "outputs": [],
   "source": [
    "gm_labels = GaussianMixture(n_components=2).fit(X).predict(X)"
   ]
  },
  {
   "cell_type": "code",
   "execution_count": 241,
   "metadata": {},
   "outputs": [
    {
     "data": {
      "text/plain": [
       "<matplotlib.collections.PathCollection at 0x1a1c6a2978>"
      ]
     },
     "execution_count": 241,
     "metadata": {},
     "output_type": "execute_result"
    },
    {
     "data": {
      "image/png": "[encoded data removed]",
      "text/plain": [
       "<Figure size 432x288 with 1 Axes>"
      ]
     },
     "metadata": {},
     "output_type": "display_data"
    }
   ],
   "source": [
    "plt.scatter(X[:,0], X[:, 1], c=gm_labels)"
   ]
  },
  {
   "cell_type": "code",
   "execution_count": 125,
   "metadata": {},
   "outputs": [
    {
     "data": {
      "text/plain": [
       "<matplotlib.collections.PathCollection at 0x1a1cd73320>"
      ]
     },
     "execution_count": 125,
     "metadata": {},
     "output_type": "execute_result"
    },
    {
     "data": {
      "image/png": "[encoded data removed]",
      "text/plain": [
       "<Figure size 432x288 with 1 Axes>"
      ]
     },
     "metadata": {
      "needs_background": "light"
     },
     "output_type": "display_data"
    }
   ],
   "source": [
    "plt.scatter(X[:,0], X[:, 1], c=km.labels_)"
   ]
  },
  {
   "cell_type": "code",
   "execution_count": 243,
   "metadata": {},
   "outputs": [],
   "source": [
    "X, _ = make_moons(n_samples=300, noise=.05)"
   ]
  },
  {
   "cell_type": "code",
   "execution_count": 244,
   "metadata": {},
   "outputs": [
    {
     "data": {
      "text/plain": [
       "<matplotlib.collections.PathCollection at 0x1a1d464828>"
      ]
     },
     "execution_count": 244,
     "metadata": {},
     "output_type": "execute_result"
    },
    {
     "data": {
      "image/png": "[encoded data removed]",
      "text/plain": [
       "<Figure size 432x288 with 1 Axes>"
      ]
     },
     "metadata": {},
     "output_type": "display_data"
    }
   ],
   "source": [
    "plt.scatter(X[:,0], X[:, 1])"
   ]
  },
  {
   "cell_type": "code",
   "execution_count": 245,
   "metadata": {},
   "outputs": [
    {
     "data": {
      "text/plain": [
       "SphericalKMeans(copy_x=True, init='k-means++', max_iter=300, n_clusters=2,\n",
       "        n_init=10, n_jobs=1, normalize=True, random_state=None, tol=0.0001,\n",
       "        verbose=0)"
      ]
     },
     "execution_count": 245,
     "metadata": {},
     "output_type": "execute_result"
    },
    {
     "data": {
      "text/plain": [
       "KMeans(algorithm='auto', copy_x=True, init='k-means++', max_iter=300,\n",
       "    n_clusters=3, n_init=10, n_jobs=None, precompute_distances='auto',\n",
       "    random_state=None, tol=0.0001, verbose=0)"
      ]
     },
     "execution_count": 245,
     "metadata": {},
     "output_type": "execute_result"
    },
    {
     "data": {
      "text/plain": [
       "<matplotlib.collections.PathCollection at 0x1a1d516eb8>"
      ]
     },
     "execution_count": 245,
     "metadata": {},
     "output_type": "execute_result"
    },
    {
     "data": {
      "image/png": "[encoded data removed]",
      "text/plain": [
       "<Figure size 432x288 with 1 Axes>"
      ]
     },
     "metadata": {},
     "output_type": "display_data"
    }
   ],
   "source": [
    "skm = SphericalKMeans(2)\n",
    "km = KMeans(3)\n",
    "skm.fit(X)\n",
    "km.fit(X)\n",
    "gm_labels = GaussianMixture(n_components=2).fit(X).predict(X)\n",
    "plt.scatter(X[:,0], X[:, 1], c=gm_labels)"
   ]
  },
  {
   "cell_type": "code",
   "execution_count": null,
   "metadata": {},
   "outputs": [],
   "source": []
  }
 ],
 "metadata": {
  "kernelspec": {
   "display_name": "Python 3",
   "language": "python",
   "name": "python3"
  },
  "language_info": {
   "codemirror_mode": {
    "name": "ipython",
    "version": 3
   },
   "file_extension": ".py",
   "mimetype": "text/x-python",
   "name": "python",
   "nbconvert_exporter": "python",
   "pygments_lexer": "ipython3",
   "version": "3.7.3"
  }
 },
 "nbformat": 4,
 "nbformat_minor": 2
}

{
 "cells": [
  {
   "cell_type": "code",
   "execution_count": 78,
   "metadata": {},
   "outputs": [],
   "source": [
    "import plotly.plotly as py\n",
    "import plotly.graph_objs as go\n",
    "from plotly import tools"
   ]
  },
  {
   "cell_type": "code",
   "execution_count": 3,
   "metadata": {},
   "outputs": [],
   "source": [
    "import pandas as pd\n",
    "from pprint import pprint\n",
    "import matplotlib.pyplot as plt\n",
    "import numpy as np\n",
    "from sklearn.decomposition import PCA\n",
    "from sklearn.preprocessing import StandardScaler\n",
    "\n",
    "from sklearn.cluster import KMeans, SpectralClustering, AgglomerativeClustering\n",
    "from sklearn.metrics import silhouette_score\n",
    "\n",
    "from sklearn.neighbors import NearestNeighbors\n",
    "from sklearn.metrics.pairwise import cosine_similarity, cosine_distances, euclidean_distances\n",
    "\n",
    "\n",
    "%matplotlib inline\n",
    "plt.style.use('fivethirtyeight')"
   ]
  },
  {
   "cell_type": "code",
   "execution_count": 4,
   "metadata": {},
   "outputs": [],
   "source": [
    "data = pd.read_csv(\"data.csv\", index_col=0)\n",
    "\n",
    "data.columns = data.columns.str.lower().str.replace(\" \", \"_\")\n",
    "\n",
    "bad_cols = [\"club_logo\", \"photo\", \"flag\", \"loaned_from\"]\n",
    "\n",
    "data = data.drop(bad_cols, axis = 1)\n",
    "data = data.query(\"position != 'GK'\")\n",
    "gk_cols = [i for i in data.columns if \"gk\" in i]\n",
    "\n",
    "data = data.drop(gk_cols, axis = 1)\n",
    "data = data.set_index(\"id\")"
   ]
  },
  {
   "cell_type": "code",
   "execution_count": 5,
   "metadata": {},
   "outputs": [],
   "source": [
    "top5 = np.load(\"top_5_clubs.pkl\")"
   ]
  },
  {
   "cell_type": "code",
   "execution_count": 7,
   "metadata": {},
   "outputs": [
    {
     "data": {
      "text/plain": [
       "102"
      ]
     },
     "execution_count": 7,
     "metadata": {},
     "output_type": "execute_result"
    }
   ],
   "source": [
    "len(top5)"
   ]
  },
  {
   "cell_type": "code",
   "execution_count": 9,
   "metadata": {},
   "outputs": [],
   "source": [
    "data = data[data.club.isin(top5)].copy()"
   ]
  },
  {
   "cell_type": "code",
   "execution_count": 14,
   "metadata": {},
   "outputs": [],
   "source": [
    "# data = data[data.overall >= 70].copy()"
   ]
  },
  {
   "cell_type": "code",
   "execution_count": 10,
   "metadata": {},
   "outputs": [],
   "source": [
    "attribute_cols = data.columns[48:-1].tolist()\n",
    "features = data[attribute_cols].copy()\n",
    "features.dropna(inplace=True)\n"
   ]
  },
  {
   "cell_type": "code",
   "execution_count": 15,
   "metadata": {},
   "outputs": [],
   "source": [
    "features[\"tackling\"] = (features.standingtackle + features.slidingtackle)/2.\n",
    "features.drop([\"standingtackle\", \"slidingtackle\"], axis = 1, inplace=True)"
   ]
  },
  {
   "cell_type": "code",
   "execution_count": 16,
   "metadata": {},
   "outputs": [
    {
     "data": {
      "text/plain": [
       "Index(['crossing', 'finishing', 'headingaccuracy', 'volleys', 'dribbling',\n",
       "       'curve', 'fkaccuracy', 'ballcontrol', 'acceleration', 'sprintspeed',\n",
       "       'agility', 'reactions', 'balance', 'shotpower', 'jumping', 'stamina',\n",
       "       'strength', 'longshots', 'aggression', 'interceptions', 'positioning',\n",
       "       'vision', 'penalties', 'composure', 'marking', 'passing', 'tackling'],\n",
       "      dtype='object')"
      ]
     },
     "execution_count": 16,
     "metadata": {},
     "output_type": "execute_result"
    }
   ],
   "source": [
    "features.columns"
   ]
  },
  {
   "cell_type": "code",
   "execution_count": 17,
   "metadata": {},
   "outputs": [],
   "source": [
    "cols = [\"finishing\", \"passing\", \"dribbling\", \"curve\", \"ballcontrol\", \"tackling\", \"balance\", \"marking\", \"agility\"]"
   ]
  },
  {
   "cell_type": "code",
   "execution_count": 18,
   "metadata": {},
   "outputs": [],
   "source": [
    "X = features[cols].copy()"
   ]
  },
  {
   "cell_type": "code",
   "execution_count": 22,
   "metadata": {},
   "outputs": [],
   "source": [
    "name_id_dict = data.name.to_dict()"
   ]
  },
  {
   "cell_type": "code",
   "execution_count": 30,
   "metadata": {},
   "outputs": [],
   "source": [
    "hazard_id = 183277\n",
    "salah_id = 209331"
   ]
  },
  {
   "cell_type": "code",
   "execution_count": 31,
   "metadata": {},
   "outputs": [],
   "source": [
    "# name_id_dict"
   ]
  },
  {
   "cell_type": "code",
   "execution_count": 40,
   "metadata": {},
   "outputs": [],
   "source": [
    "trace_data_1 = X.loc[hazard_id].tolist()\n",
    "trace_data_2 = X.loc[salah_id].tolist()\n",
    "\n",
    "trace1 = go.Scatterpolar(r = trace_data_1 + [trace_data_1[0]], theta = cols + [cols[0]], fill = \"toself\",\n",
    "                        name = name_id_dict[hazard_id], opacity = .5)\n",
    "\n",
    "trace2 = go.Scatterpolar(r = trace_data_2 + [trace_data_2[0]], theta = cols + [cols[0]], fill = \"toself\",\n",
    "                        name = name_id_dict[salah_id], opacity = .5)\n",
    "\n",
    "layout = go.Layout(\n",
    "  polar = dict(\n",
    "    radialaxis = dict(\n",
    "      visible = True,\n",
    "      range = [0, 100]\n",
    "    )\n",
    "  ),\n",
    "  showlegend = True\n",
    ")"
   ]
  },
  {
   "cell_type": "code",
   "execution_count": 69,
   "metadata": {},
   "outputs": [],
   "source": [
    "# fig = go.Figure(data = [trace1, trace2], layout= layout)\n",
    "# py.iplot(fig)"
   ]
  },
  {
   "cell_type": "code",
   "execution_count": 70,
   "metadata": {},
   "outputs": [],
   "source": [
    "# fig.to_dict()"
   ]
  },
  {
   "cell_type": "code",
   "execution_count": 43,
   "metadata": {},
   "outputs": [],
   "source": [
    "import dash_core_components as dcc"
   ]
  },
  {
   "cell_type": "code",
   "execution_count": 45,
   "metadata": {},
   "outputs": [],
   "source": [
    "# help(dcc.Dropdown)"
   ]
  },
  {
   "cell_type": "code",
   "execution_count": 47,
   "metadata": {},
   "outputs": [
    {
     "data": {
      "text/plain": [
       "{'label': 'A. Eleftheriou'}"
      ]
     },
     "execution_count": 47,
     "metadata": {},
     "output_type": "execute_result"
    }
   ],
   "source": [
    "{\"label\":i for i in data.name}"
   ]
  },
  {
   "cell_type": "code",
   "execution_count": 63,
   "metadata": {},
   "outputs": [],
   "source": [
    "options = []"
   ]
  },
  {
   "cell_type": "code",
   "execution_count": 64,
   "metadata": {},
   "outputs": [],
   "source": [
    "for i in data.name.unique():\n",
    "    d = {\"label\":i, \"value\":i}\n",
    "    options.append(d)"
   ]
  },
  {
   "cell_type": "code",
   "execution_count": 56,
   "metadata": {},
   "outputs": [],
   "source": [
    "names = data.name"
   ]
  },
  {
   "cell_type": "code",
   "execution_count": 61,
   "metadata": {},
   "outputs": [],
   "source": [
    "data.loc[a.duplicated(), \"name\"] = a[a.duplicated()] + \", \" + data.loc[a.duplicated(), \"club\"]"
   ]
  },
  {
   "cell_type": "code",
   "execution_count": 62,
   "metadata": {},
   "outputs": [
    {
     "data": {
      "text/plain": [
       "2705"
      ]
     },
     "execution_count": 62,
     "metadata": {},
     "output_type": "execute_result"
    }
   ],
   "source": [
    "data.name.nunique()"
   ]
  },
  {
   "cell_type": "code",
   "execution_count": 68,
   "metadata": {},
   "outputs": [
    {
     "data": {
      "text/plain": [
       "199304"
      ]
     },
     "execution_count": 68,
     "metadata": {},
     "output_type": "execute_result"
    }
   ],
   "source": [
    "data[data.name == \"Danilo\"].index[0]"
   ]
  },
  {
   "cell_type": "code",
   "execution_count": 71,
   "metadata": {},
   "outputs": [],
   "source": [
    "hist_color = \"#D91E36\""
   ]
  },
  {
   "cell_type": "code",
   "execution_count": 162,
   "metadata": {},
   "outputs": [],
   "source": [
    "salah_data = X.loc[salah_id]"
   ]
  },
  {
   "cell_type": "code",
   "execution_count": 237,
   "metadata": {},
   "outputs": [
    {
     "data": {
      "text/plain": [
       "[[1, 1], [1, 2], [1, 3], [2, 1], [2, 2], [2, 3], [3, 1], [3, 2], [3, 3]]"
      ]
     },
     "execution_count": 237,
     "metadata": {},
     "output_type": "execute_result"
    }
   ],
   "source": [
    "grid = []\n",
    "\n",
    "for i in n:\n",
    "    for e in n:\n",
    "        grid.append([i, e])\n",
    "        \n",
    "grid"
   ]
  },
  {
   "cell_type": "code",
   "execution_count": 236,
   "metadata": {},
   "outputs": [
    {
     "data": {
      "text/plain": [
       "[1, 2, 3]"
      ]
     },
     "execution_count": 236,
     "metadata": {},
     "output_type": "execute_result"
    }
   ],
   "source": [
    "n"
   ]
  },
  {
   "cell_type": "code",
   "execution_count": 226,
   "metadata": {},
   "outputs": [
    {
     "name": "stdout",
     "output_type": "stream",
     "text": [
      "This is the format of your plot grid:\n",
      "[ (1,1) x1,y1 ]  [ (1,2) x2,y2 ]  [ (1,3) x3,y3 ]\n",
      "[ (2,1) x4,y4 ]  [ (2,2) x5,y5 ]  [ (2,3) x6,y6 ]\n",
      "[ (3,1) x7,y7 ]  [ (3,2) x8,y8 ]  [ (3,3) x9,y9 ]\n",
      "\n"
     ]
    }
   ],
   "source": [
    "# fig = tools.make_subplots(rows=3, cols=3, subplot_titles=cols);\n",
    "# for i in range(len(cols)):\n",
    "#     c = cols[i]\n",
    "#     trace = go.Histogram(x = X[c], name = c, marker = dict(color = hist_color), \n",
    "# #                          nbinsx = X[c].nunique() + 1,\n",
    "#                          xbins = dict(start = 0, end = 100, size = 1)\n",
    "#                         )\n",
    "#     fig.append_trace(trace,grid[i][0], grid[i][1])\n",
    "#     value = salah_data.loc[c]\n",
    "#     sd = go.Scatter(x =[value, value], y = [0, 100] , \n",
    "#                     marker = dict(color = \"black\"), mode = \"lines\")\n",
    "#     fig.append_trace(sd,grid[i][0], grid[i][1])\n",
    "    "
   ]
  },
  {
   "cell_type": "code",
   "execution_count": 229,
   "metadata": {},
   "outputs": [
    {
     "name": "stdout",
     "output_type": "stream",
     "text": [
      "This is the format of your plot grid:\n",
      "[ (1,1) x1,y1 ]  [ (1,2) x2,y2 ]  [ (1,3) x3,y3 ]\n",
      "[ (2,1) x4,y4 ]  [ (2,2) x5,y5 ]  [ (2,3) x6,y6 ]\n",
      "[ (3,1) x7,y7 ]  [ (3,2) x8,y8 ]  [ (3,3) x9,y9 ]\n",
      "\n"
     ]
    }
   ],
   "source": [
    "fig = tools.make_subplots(rows=3, cols=3, subplot_titles=cols);\n",
    "for i in range(len(cols)):\n",
    "    c = cols[i]\n",
    "    \n",
    "    vc = X[c].value_counts().reindex(np.arange(X[c].min()- 1, X[c].max() + 1))\n",
    "    \n",
    "    trace = go.Bar(x = vc.index, y = vc.values, name = c, marker = dict(color = hist_color))\n",
    "    \n",
    "    \n",
    "    fig.append_trace(trace,grid[i][0], grid[i][1])\n",
    "    value = salah_data.loc[c]\n",
    "    sd = go.Scatter(x =[value, value], y = [0, vc.max()] , \n",
    "                    marker = dict(color = \"black\"), mode = \"lines\")\n",
    "    fig.append_trace(sd,grid[i][0], grid[i][1])\n",
    "    "
   ]
  },
  {
   "cell_type": "code",
   "execution_count": 230,
   "metadata": {},
   "outputs": [],
   "source": [
    "fig[\"layout\"].update(showlegend = False, height=750, width=750,\n",
    "                     title='FIFA Histograms');"
   ]
  },
  {
   "cell_type": "code",
   "execution_count": 232,
   "metadata": {},
   "outputs": [],
   "source": [
    "# py.iplot(fig)"
   ]
  },
  {
   "cell_type": "code",
   "execution_count": null,
   "metadata": {},
   "outputs": [],
   "source": [
    "dcc.Dropdown()"
   ]
  }
 ],
 "metadata": {
  "kernelspec": {
   "display_name": "Python 3",
   "language": "python",
   "name": "python3"
  },
  "language_info": {
   "codemirror_mode": {
    "name": "ipython",
    "version": 3
   },
   "file_extension": ".py",
   "mimetype": "text/x-python",
   "name": "python",
   "nbconvert_exporter": "python",
   "pygments_lexer": "ipython3",
   "version": "3.7.3"
  }
 },
 "nbformat": 4,
 "nbformat_minor": 2
}
